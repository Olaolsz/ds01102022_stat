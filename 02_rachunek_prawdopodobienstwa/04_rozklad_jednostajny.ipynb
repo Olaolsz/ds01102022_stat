{
  "cells": [
    {
      "cell_type": "markdown",
      "metadata": {
        "id": "hd0Kuvp64Hcb"
      },
      "source": [
        "### Rozkład jednostajny - $U(a, b)$\n",
        "Zmienna losowa $X$ ma **rozkład jednostajny** na przedziale $[a,b]$, jeżeli gęstość $f$ jest postaci\n",
        "$$\n",
        "    f(x)=\\left.\n",
        "    \\begin{cases}\n",
        "    \\frac{1}{b-a} \\quad &\\text{dla}\\quad x\\in[a,b]\\\\\n",
        "    0 \\quad &\\text{dla}\\quad x\\not\\in [a,b]\n",
        "    \\end{cases}\\right.\n",
        "$$\n",
        "\n",
        "Wartość oczekiwana i wariancja dane są wzorami\n",
        "$$\n",
        "    \\mathbb{E}X = \\frac{a+b}{2}, \\quad \\text{Var}(X) = \\frac{(b-a)^2}{12}.\n",
        "$$"
      ]
    },
    {
      "cell_type": "code",
      "execution_count": 1,
      "metadata": {
        "id": "wL9PN3_l4Hcf"
      },
      "outputs": [],
      "source": [
        "import numpy as np\n",
        "import matplotlib.pyplot as plt\n",
        "\n",
        "from scipy import stats"
      ]
    },
    {
      "cell_type": "markdown",
      "metadata": {
        "id": "Rb8wvbiw4Hcf"
      },
      "source": [
        "### Zadanie\n",
        "1. Zdefiniuj zmienną losową dla rozkładu jednostajnego.\n",
        "2. Narysuj gęstość.\n",
        "3. Narysuj dystrybuantę.\n",
        "4. Wyznacz podstawowe charakterystyki rozkładu: średnia, wariancja, odchylenie standardowe.\n",
        "5. Wylosuj $n$ obserwacji z zdefiniowanego rozkładu.\n",
        "6. Narysujmy histogram dla wylosowanej powyżej próbki.\n",
        "7. Porównaj gęstości/dystrybuanty kilku różnych rozkładów jednostajnych."
      ]
    },
    {
      "cell_type": "code",
      "execution_count": 2,
      "metadata": {
        "id": "VFSHtNGn4Hcg"
      },
      "outputs": [],
      "source": [
        "# 1. Definicja rozkładu jednostajnego na odcinku $[0,1]$\n",
        "uni = stats.uniform(loc=0, scale=1) # [a=loc, b=loc+scale]"
      ]
    },
    {
      "cell_type": "markdown",
      "metadata": {
        "id": "CJ2ffTxQ4Hcg"
      },
      "source": [
        "`pdf(x, loc=0, scale=1)` \tProbability density function."
      ]
    },
    {
      "cell_type": "code",
      "execution_count": 3,
      "metadata": {
        "colab": {
          "base_uri": "https://localhost:8080/",
          "height": 286
        },
        "id": "2E5Wr5YH4Hcg",
        "outputId": "b4130ec1-64d9-4ae1-ab0f-91be27ae27f0"
      },
      "outputs": [
        {
          "output_type": "execute_result",
          "data": {
            "text/plain": [
              "[<matplotlib.lines.Line2D at 0x7f0f45bb7610>]"
            ]
          },
          "metadata": {},
          "execution_count": 3
        },
        {
          "output_type": "display_data",
          "data": {
            "text/plain": [
              "<Figure size 432x288 with 1 Axes>"
            ],
            "image/png": "[encoded data removed]"
          },
          "metadata": {
            "needs_background": "light"
          }
        }
      ],
      "source": [
        "# 2. Gęstość = probability density function = pdf\n",
        "\n",
        "fig, ax = plt.subplots(1, 1)\n",
        "ax.set_xlim([-5, 6])\n",
        "ax.set_ylim([0, 1.2])\n",
        "\n",
        "x_value = np.linspace(-5, 6, 1000)\n",
        "ax.plot(x_value, uni.pdf(x_value), 'ro--', ms=2, label='uniform pdf')"
      ]
    },
    {
      "cell_type": "code",
      "execution_count": 4,
      "metadata": {
        "colab": {
          "base_uri": "https://localhost:8080/",
          "height": 265
        },
        "id": "HBkSPv6c4Hch",
        "outputId": "ca4635e6-0cc9-4142-8ae6-536338aa2a90"
      },
      "outputs": [
        {
          "output_type": "display_data",
          "data": {
            "text/plain": [
              "<Figure size 432x288 with 1 Axes>"
            ],
            "image/png": "[encoded data removed]"
          },
          "metadata": {
            "needs_background": "light"
          }
        }
      ],
      "source": [
        "# 3. Dystrybunta\n",
        "fig, ax = plt.subplots(1, 1)\n",
        "\n",
        "ax.set_xlim([-10, 10])\n",
        "ax.set_ylim([-0.1, 1.1])\n",
        "\n",
        "x = np.arange(-10, 10, 0.1)\n",
        "ax.plot(x, uni.cdf(x), 'r--', ms=1, label='uniform cdf')\n",
        "plt.show()"
      ]
    },
    {
      "cell_type": "code",
      "execution_count": 6,
      "metadata": {
        "colab": {
          "base_uri": "https://localhost:8080/"
        },
        "id": "KFwvlDdQ4Hci",
        "outputId": "dd331597-052b-4bbc-87d2-3381d86dcb65"
      },
      "outputs": [
        {
          "output_type": "stream",
          "name": "stdout",
          "text": [
            "(array(0.5), array(0.08333333), array(0.), array(-1.2))\n",
            "0.28867513459481287\n"
          ]
        }
      ],
      "source": [
        "# 4. Charakterystyki rozkładu\n",
        "print(uni.stats('mvsk'))\n",
        "#odchylenie\n",
        "print(np.sqrt(uni.stats('v')))"
      ]
    },
    {
      "cell_type": "code",
      "execution_count": 12,
      "metadata": {
        "colab": {
          "base_uri": "https://localhost:8080/"
        },
        "id": "kkPb6jcM4Hci",
        "outputId": "e05273a4-2ea3-4a5b-fb84-a94b2d4c17ee"
      },
      "outputs": [
        {
          "output_type": "execute_result",
          "data": {
            "text/plain": [
              "(0.008619285099462304, 0.9908358230602129)"
            ]
          },
          "metadata": {},
          "execution_count": 12
        }
      ],
      "source": [
        "# 5. Wylosowana próbka z rozkładu\n",
        "x = uni.rvs(100)\n",
        "x.min(), x.max()"
      ]
    },
    {
      "cell_type": "code",
      "execution_count": 11,
      "metadata": {
        "colab": {
          "base_uri": "https://localhost:8080/"
        },
        "id": "_QkvyhKq4Hcj",
        "outputId": "207dbc23-323b-4ed6-8012-f0311c2257a0"
      },
      "outputs": [
        {
          "output_type": "execute_result",
          "data": {
            "text/plain": [
              "(-1.91969648860832, 1.9339709393912812)"
            ]
          },
          "metadata": {},
          "execution_count": 11
        }
      ],
      "source": [
        "#U[-2,2]\n",
        "uni2 = stats.uniform(loc=-2, scale=4) # a=-2, b=-2+4=2\n",
        "x2 = uni2.rvs(size=100)\n",
        "x2.min(), x2.max()"
      ]
    },
    {
      "cell_type": "code",
      "execution_count": 13,
      "metadata": {
        "colab": {
          "base_uri": "https://localhost:8080/",
          "height": 265
        },
        "id": "pIau9oSM4Hcj",
        "outputId": "a049ee23-66fe-4383-f876-3298bcdbb779"
      },
      "outputs": [
        {
          "output_type": "display_data",
          "data": {
            "text/plain": [
              "<Figure size 432x288 with 1 Axes>"
            ],
            "image/png": "[encoded data removed]"
          },
          "metadata": {
            "needs_background": "light"
          }
        }
      ],
      "source": [
        "# 6. Histogram\n",
        "fig, ax = plt.subplots(1, 1)\n",
        "ax.hist(x, histtype='stepfilled', alpha=0.2, density=True)\n",
        "plt.show()"
      ]
    },
    {
      "cell_type": "code",
      "execution_count": 14,
      "metadata": {
        "colab": {
          "base_uri": "https://localhost:8080/",
          "height": 286
        },
        "id": "Eu9diNK04Hck",
        "outputId": "1f47e376-d820-4162-c679-f158455e9815"
      },
      "outputs": [
        {
          "output_type": "execute_result",
          "data": {
            "text/plain": [
              "<matplotlib.legend.Legend at 0x7f0f3d0dde10>"
            ]
          },
          "metadata": {},
          "execution_count": 14
        },
        {
          "output_type": "display_data",
          "data": {
            "text/plain": [
              "<Figure size 432x288 with 1 Axes>"
            ],
            "image/png": "[encoded data removed]"
          },
          "metadata": {
            "needs_background": "light"
          }
        }
      ],
      "source": [
        "# 7. Porównanie\n",
        "# gęstość\n",
        "uni2 = stats.uniform(loc=-2, scale=4)\n",
        "uni3 = stats.uniform(loc=0, scale=3)\n",
        "\n",
        "fig, ax = plt.subplots(1, 1)\n",
        "ax.set_xlim([-5, 6])\n",
        "ax.set_ylim([0, 1.2])\n",
        "\n",
        "x_value = np.linspace(-5, 6, 1000)\n",
        "ax.plot(x_value, uni.pdf(x_value), 'ro--', ms=2, label='uniform pdf 1')\n",
        "ax.plot(x_value, uni2.pdf(x_value), 'go--', ms=2, label='uniform pdf 2')\n",
        "ax.plot(x_value, uni3.pdf(x_value), 'bo--', ms=2, label='uniform pdf 3')\n",
        "ax.legend(loc='best', frameon=False)"
      ]
    },
    {
      "cell_type": "code",
      "execution_count": 15,
      "metadata": {
        "scrolled": true,
        "colab": {
          "base_uri": "https://localhost:8080/",
          "height": 269
        },
        "id": "rSb8mXIb4Hck",
        "outputId": "79ee079c-7876-4f2e-fa3a-b9a804637865"
      },
      "outputs": [
        {
          "output_type": "display_data",
          "data": {
            "text/plain": [
              "<Figure size 432x288 with 1 Axes>"
            ],
            "image/png": "[encoded data removed]"
          },
          "metadata": {
            "needs_background": "light"
          }
        }
      ],
      "source": [
        "# dystrybuanta\n",
        "fig, ax = plt.subplots(1, 1)\n",
        "\n",
        "ax.set_xlim([-10, 10])\n",
        "ax.set_ylim([-0.2, 1.2])\n",
        "\n",
        "x = np.arange(-10, 10, 0.1)\n",
        "ax.plot(x, uni.cdf(x), 'ro--', ms=1, label='uniform cdf 1')\n",
        "ax.plot(x, uni2.cdf(x), 'go--', ms=1, label='uniform cdf 2')\n",
        "ax.plot(x, uni3.cdf(x), 'bo--', ms=1, label='uniform cdf 3')\n",
        "\n",
        "plt.show()"
      ]
    },
    {
      "cell_type": "markdown",
      "metadata": {
        "id": "Ce8V7bcw4Hck"
      },
      "source": [
        "### Zadanie\n",
        "\n",
        "Zakładając, że zmienna losowa X ma rozkład jednostajny na odcinku $[-5, 5]$, oblicz prawdopodobieństwo:\n",
        "\n",
        "a) $P(-3 < X \\leq 3)$;\n",
        "\n",
        "b) $P( X > 0)$;\n",
        "\n",
        "c) $P( X < -10)$."
      ]
    },
    {
      "cell_type": "code",
      "execution_count": 16,
      "metadata": {
        "colab": {
          "base_uri": "https://localhost:8080/"
        },
        "id": "ZkA1rnUK4Hcl",
        "outputId": "5eca9da9-0332-4a7f-a4a9-82b6c5751384"
      },
      "outputs": [
        {
          "output_type": "stream",
          "name": "stdout",
          "text": [
            "P(-3 < X <= 3) = 0.6000000000000001\n",
            "P(X > 0) = 0.5\n",
            "P(X < -10) = 0.0\n"
          ]
        }
      ],
      "source": [
        "uniform = stats.uniform(loc=-5, scale=10)\n",
        "\n",
        "\n",
        "# a)\n",
        "p1 = uniform.cdf(3) - uniform.cdf(-3)\n",
        "print('P(-3 < X <= 3) = {}'.format(p1))\n",
        "\n",
        "# b)\n",
        "p2 = 1 - uniform.cdf(0)\n",
        "print('P(X > 0) = {}'.format(p2))\n",
        "\n",
        "# c)\n",
        "p3 = uniform.cdf(-10)\n",
        "print('P(X < -10) = {}'.format(p3))"
      ]
    }
  ],
  "metadata": {
    "kernelspec": {
      "display_name": "Python 3",
      "language": "python",
      "name": "python3"
    },
    "language_info": {
      "codemirror_mode": {
        "name": "ipython",
        "version": 3
      },
      "file_extension": ".py",
      "mimetype": "text/x-python",
      "name": "python",
      "nbconvert_exporter": "python",
      "pygments_lexer": "ipython3",
      "version": "3.8.8"
    },
    "colab": {
      "provenance": []
    }
  },
  "nbformat": 4,
  "nbformat_minor": 0
}