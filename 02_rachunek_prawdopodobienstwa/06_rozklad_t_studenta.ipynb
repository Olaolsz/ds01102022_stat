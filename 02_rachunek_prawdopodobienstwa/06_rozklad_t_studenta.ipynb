{
  "cells": [
    {
      "cell_type": "markdown",
      "metadata": {
        "id": "vzyc0nyC1p0e"
      },
      "source": [
        "# **Rozkład $t$-Studenta** - $t(n)$\n",
        "Zmienna losowa $X$ ma rozkład  $t$-Studenta o $n\\in\\mathbb{N_+}$ stopniach swobody, jeżeli jej gęstość $f$ jest postaci\n",
        "$$\n",
        "    f(x)=\\frac{\\Gamma(\\frac{n+1}{2})}{\\sqrt{n\\pi}\\Gamma(\\frac{n}{2})}\\Big(1+\\frac{x^2}{n}\\Big)^{-\\frac{n+1}{2}} \\quad \\text{dla} \\quad x\\in\\mathbb{R}.\n",
        "$$\n",
        "\n",
        "Wartość oczekiwana i wariancja, dla $n>2$, dane są wzorami\n",
        "$$\n",
        "    \\mathbb{E}X = 0, \\quad \\text{Var}(X) = \\frac{n}{n-2}.\n",
        "$$"
      ]
    },
    {
      "cell_type": "markdown",
      "metadata": {
        "id": "6I8s0iGe1p0h"
      },
      "source": [
        "https://docs.scipy.org/doc/scipy/reference/generated/scipy.stats.t.html#scipy.stats.t"
      ]
    },
    {
      "cell_type": "code",
      "execution_count": null,
      "metadata": {
        "id": "jnNt8Cef1p0h"
      },
      "outputs": [],
      "source": [
        "import numpy as np\n",
        "import matplotlib.pyplot as plt\n",
        "\n",
        "from scipy import stats"
      ]
    },
    {
      "cell_type": "markdown",
      "metadata": {
        "id": "z7puDOKe1p0i"
      },
      "source": [
        "### Zadanie\n",
        "1. Zdefiniuj zmienną losową dla rozkładu $t$-Studenta.\n",
        "2. Narysuj gęstość.\n",
        "3. Narysuj dystrybuantę.\n",
        "4. Wyznacz podstawowe charakterystyki rozkładu: średnia, wariancja, odchylenie standardowe.\n",
        "5. Wylosuj $n$ obserwacji z zdefiniowanego rozkładu.\n",
        "6. Narysujmy histogram dla wylosowanej powyżej próbki."
      ]
    },
    {
      "cell_type": "code",
      "execution_count": null,
      "metadata": {
        "id": "yP3x45co1p0j"
      },
      "outputs": [],
      "source": []
    },
    {
      "cell_type": "code",
      "execution_count": null,
      "metadata": {
        "id": "3AWG6xHR1p0j"
      },
      "outputs": [],
      "source": []
    },
    {
      "cell_type": "code",
      "execution_count": null,
      "metadata": {
        "id": "A1KyHLAM1p0j"
      },
      "outputs": [],
      "source": []
    },
    {
      "cell_type": "code",
      "execution_count": null,
      "metadata": {
        "id": "fe_ktxUD1p0j"
      },
      "outputs": [],
      "source": []
    },
    {
      "cell_type": "markdown",
      "metadata": {
        "id": "KvlxFTIK1p0k"
      },
      "source": [
        "### Zadanie\n",
        "1. Narysuj na jednym wykresie gęstości dla rozkładu t-Studenta dla stopni swobody z zakresu od 1 do 20.\n",
        "2. Dorysuj wykres gęstości rozkładu normalnego standardowego\n",
        "3. Wyciągnij wnioski"
      ]
    },
    {
      "cell_type": "code",
      "execution_count": null,
      "metadata": {
        "id": "azhn0NE81p0k"
      },
      "outputs": [],
      "source": []
    },
    {
      "cell_type": "code",
      "execution_count": null,
      "metadata": {
        "id": "Ji3jc-361p0k"
      },
      "outputs": [],
      "source": []
    },
    {
      "cell_type": "code",
      "execution_count": null,
      "metadata": {
        "id": "MMTCFr1Y1p0k"
      },
      "outputs": [],
      "source": []
    },
    {
      "cell_type": "markdown",
      "metadata": {
        "id": "Q7Y33_aa1p0k"
      },
      "source": [
        "### Zadanie - do domu\n",
        "Sprawdzić empirycznie następujące własności:\n",
        "1. Jeśli $X_1, \\ldots, X_n$ będzie próbą z rozkładu normalnego $\\mathcal{N}(\\mu,\\sigma)$ to zmienna $Y=\\frac{\\overline{X}-\\mu}{S}\\sqrt{n}$ pochodzi z rozkładu $t$-Studenta z $n-1$ stopniami swobody.\n",
        "\n",
        "**Wskazkówka**: $S^2=\\frac{1}{n-1}\\sum_{i=1}^n(X_i-\\overline{X})^2$."
      ]
    },
    {
      "cell_type": "code",
      "execution_count": null,
      "metadata": {
        "id": "OmeQh6JC1p0l"
      },
      "outputs": [],
      "source": []
    },
    {
      "cell_type": "code",
      "execution_count": null,
      "metadata": {
        "id": "1iPc6rHl1p0l"
      },
      "outputs": [],
      "source": []
    },
    {
      "cell_type": "code",
      "execution_count": null,
      "metadata": {
        "id": "mnCT7oPe1p0l"
      },
      "outputs": [],
      "source": []
    },
    {
      "cell_type": "code",
      "execution_count": null,
      "metadata": {
        "id": "obDlzX9q1p0l"
      },
      "outputs": [],
      "source": []
    },
    {
      "cell_type": "code",
      "execution_count": null,
      "metadata": {
        "id": "YQDUhCV_1p0l"
      },
      "outputs": [],
      "source": []
    },
    {
      "cell_type": "code",
      "execution_count": null,
      "metadata": {
        "id": "4-jPSokY1p0l"
      },
      "outputs": [],
      "source": []
    }
  ],
  "metadata": {
    "kernelspec": {
      "display_name": "Python 3",
      "language": "python",
      "name": "python3"
    },
    "language_info": {
      "codemirror_mode": {
        "name": "ipython",
        "version": 3
      },
      "file_extension": ".py",
      "mimetype": "text/x-python",
      "name": "python",
      "nbconvert_exporter": "python",
      "pygments_lexer": "ipython3",
      "version": "3.8.8"
    },
    "colab": {
      "provenance": []
    }
  },
  "nbformat": 4,
  "nbformat_minor": 0
}