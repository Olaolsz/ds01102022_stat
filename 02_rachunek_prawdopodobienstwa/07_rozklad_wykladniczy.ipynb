{
 "cells": [
  {
   "cell_type": "markdown",
   "metadata": {},
   "source": [
    "# Rozkład wykładniczy - $\\text{Exp}(\\lambda)$\n",
    "Zmienna losowa $X$ ma rozkład wykładniczy z parametrem $\\lambda>0$, jeżeli jej gęstość $f$~jest postaci\n",
    "$$\n",
    "      f(x)=\\left.\n",
    "    \\begin{cases}\n",
    "    \\lambda\\exp\\{-\\lambda x\\} \\quad &\\text{dla} \\quad x>0\\\\\n",
    "    0 \\quad &\\text{dla} \\quad x\\leq 0,\n",
    "    \\end{cases}\\right.\n",
    "$$\n",
    "\n",
    "Wartość oczekiwana i wariancja dane są wzorami\n",
    "$$\n",
    "    \\mathbb{E}X = \\frac{1}{\\lambda}, \\quad \\text{Var}(X) = \\frac{1}{\\lambda^2}.\n",
    "$$"
   ]
  },
  {
   "cell_type": "markdown",
   "metadata": {},
   "source": [
    "https://docs.scipy.org/doc/scipy/reference/generated/scipy.stats.expon.html#scipy.stats.expon"
   ]
  },
  {
   "cell_type": "code",
   "execution_count": 1,
   "metadata": {},
   "outputs": [],
   "source": [
    "import numpy as np\n",
    "import matplotlib.pyplot as plt\n",
    "\n",
    "from scipy import stats"
   ]
  },
  {
   "cell_type": "markdown",
   "metadata": {},
   "source": [
    "### Zadanie\n",
    "1. Zdefiniuj zmienną losową dla rozkładu wykładniczego.\n",
    "2. Narysuj gęstość dla kilku wybranych wartości parametru lamba. Zwróć uwagę na dziedzinę gęstości.\n",
    "3. Narysuj dystrybuantę dla kilku wybranych wartości parametru lamba.\n",
    "4. Wyznacz podstawowe charakterystyki rozkładu: średnia, wariancja, odchylenie standardowe.\n",
    "5. Wylosuj $n$ obserwacji z zdefiniowanego rozkładu.\n",
    "6. Narysujmy histogram dla wylosowanej powyżej próbki."
   ]
  },
  {
   "cell_type": "code",
   "execution_count": null,
   "metadata": {},
   "outputs": [],
   "source": []
  },
  {
   "cell_type": "code",
   "execution_count": null,
   "metadata": {},
   "outputs": [],
   "source": []
  },
  {
   "cell_type": "code",
   "execution_count": null,
   "metadata": {},
   "outputs": [],
   "source": []
  },
  {
   "cell_type": "code",
   "execution_count": null,
   "metadata": {},
   "outputs": [],
   "source": []
  },
  {
   "cell_type": "code",
   "execution_count": null,
   "metadata": {},
   "outputs": [],
   "source": []
  },
  {
   "cell_type": "markdown",
   "metadata": {},
   "source": [
    "## Zadanie\n",
    "\n",
    "Czas przez jaki maszyna działa zanim ulegnie awarii (czyli odstep czasu miedzy dwiema kolejnymi awariami) ma\n",
    "rozkład wykładniczy z paramterem $\\lambda = 2$ (godziny). Jakie jest prawdopodobieństwo bezawaryjnej pracy maszyny\n",
    "przez co najmniej 1 godzine? Jaki jest średni odstep czasu miedzy awariami?"
   ]
  },
  {
   "cell_type": "code",
   "execution_count": null,
   "metadata": {},
   "outputs": [],
   "source": []
  },
  {
   "cell_type": "code",
   "execution_count": null,
   "metadata": {},
   "outputs": [],
   "source": []
  },
  {
   "cell_type": "code",
   "execution_count": null,
   "metadata": {},
   "outputs": [],
   "source": []
  },
  {
   "cell_type": "code",
   "execution_count": null,
   "metadata": {},
   "outputs": [],
   "source": []
  }
 ],
 "metadata": {
  "kernelspec": {
   "display_name": "Python 3",
   "language": "python",
   "name": "python3"
  },
  "language_info": {
   "codemirror_mode": {
    "name": "ipython",
    "version": 3
   },
   "file_extension": ".py",
   "mimetype": "text/x-python",
   "name": "python",
   "nbconvert_exporter": "python",
   "pygments_lexer": "ipython3",
   "version": "3.8.8"
  }
 },
 "nbformat": 4,
 "nbformat_minor": 2
}
