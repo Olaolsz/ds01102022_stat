{
  "cells": [
    {
      "cell_type": "markdown",
      "metadata": {
        "id": "Chjxi8Ar-jVS"
      },
      "source": [
        "# Testy normalności"
      ]
    },
    {
      "cell_type": "code",
      "execution_count": null,
      "metadata": {
        "id": "dqfqwcre-jVV"
      },
      "outputs": [],
      "source": [
        "import numpy as np\n",
        "import pandas as pd\n",
        "import matplotlib.pyplot as plt\n",
        "import statsmodels.api as sm\n",
        "import statsmodels.stats as sm_stats\n",
        "\n",
        "from scipy import stats"
      ]
    },
    {
      "cell_type": "markdown",
      "metadata": {
        "id": "hu1doDhf-jVW"
      },
      "source": [
        "Jednym z podstawowych kryteriów stosowalności technik statystycznych jest **rozkład danych**, do którego konkretna technika zostanie użyta. \n",
        "\n",
        "W podstawowych zastosowaniach interesuje nas właściwie jedynie czy rozkład populacji jest normalny, czy nie. Rozkład populacji staramy się ustalić na podstawie zebranej próby, więc w tym celu stosujemy odpowiednie testy statystyczne. \n",
        "\n",
        "Najbardziej uniwersalnym i w obecnych czasach najbardziej rozpowszechnionym testem używanym do tego celu jest **test Shapiro-Wilka**."
      ]
    },
    {
      "cell_type": "markdown",
      "metadata": {
        "id": "enK1mH9_-jVX"
      },
      "source": [
        "## Testy normalności - test Shapiro-Wilka\n",
        "\\begin{equation*}\n",
        "\\begin{split}\n",
        "    H_0&: \\text{rozkład badanej cechy jest normalny}\\\\\n",
        "    H_1&: \\text{rozkład badanej cechy nie jest normalny}\n",
        "\\end{split}\n",
        "\\end{equation*}\n",
        "\n",
        "Statystyka testowa \\textbf{testu Shapiro-Wilka} dana jest wzorem\n",
        "\\begin{equation*}\n",
        "    T = \\frac{\\Big( \\sum_{i=1}^{[\\frac{n}{2}]}a_i(n)(X_{n-i+1:n} - X_{i:n} \\Big)^2}{\\sum_{i=1}^n(X_i - \\overline{X})^2},\n",
        "\\end{equation*}\n",
        "gdzie $a_i(n)$ są pewnymi stałymi zależnymi od liczności próby, natomiast $[n/2]$ oznacza część całkowitą wyrażenia $n/2$.\n",
        "\n",
        "Obszar krytyczny ma postać\n",
        "\\begin{equation*}\n",
        "    W_{\\alpha} = (0, w(\\alpha, n)],\n",
        "\\end{equation*}\n",
        "gdzie $w(\\alpha, n)$ oznacza kwantyl rzędu $\\alpha$ rozkładu statystyki.\n"
      ]
    },
    {
      "cell_type": "code",
      "execution_count": null,
      "metadata": {
        "id": "DMFVM0_K-jVX"
      },
      "outputs": [],
      "source": [
        "?stats.shapiro"
      ]
    },
    {
      "cell_type": "code",
      "execution_count": null,
      "metadata": {
        "id": "QkwSwLe6-jVX"
      },
      "outputs": [],
      "source": []
    },
    {
      "cell_type": "code",
      "execution_count": null,
      "metadata": {
        "id": "60q_wuw2-jVY"
      },
      "outputs": [],
      "source": []
    },
    {
      "cell_type": "code",
      "execution_count": null,
      "metadata": {
        "id": "6Z8ejs1s-jVY"
      },
      "outputs": [],
      "source": []
    },
    {
      "cell_type": "code",
      "execution_count": null,
      "metadata": {
        "id": "0BFZmhFh-jVY"
      },
      "outputs": [],
      "source": []
    },
    {
      "cell_type": "code",
      "execution_count": null,
      "metadata": {
        "id": "KEI41WGe-jVY"
      },
      "outputs": [],
      "source": []
    },
    {
      "cell_type": "markdown",
      "metadata": {
        "id": "Auo8WwHC-jVY"
      },
      "source": [
        "## Zadanie \n",
        "Wygeneruj kilka próbek o różnej liczności z \n",
        "\n",
        "a) rozkładu normalnego,\n",
        "\n",
        "b) dla rozkładu chi-kwadrat,\n",
        "\n",
        "c) dla rozkładu wykładniczego,\n",
        "\n",
        "sporządź histogramy dla wygenerowanych próbek i sprawdź zachowanie się testu Shapiro-Wilka. Przyjmij poziom istotności 0.05."
      ]
    },
    {
      "cell_type": "code",
      "execution_count": null,
      "metadata": {
        "id": "zdAQHuZc-jVZ"
      },
      "outputs": [],
      "source": []
    },
    {
      "cell_type": "code",
      "execution_count": null,
      "metadata": {
        "id": "0QprMNao-jVZ"
      },
      "outputs": [],
      "source": []
    },
    {
      "cell_type": "code",
      "execution_count": null,
      "metadata": {
        "id": "QVWzCbGu-jVZ"
      },
      "outputs": [],
      "source": []
    },
    {
      "cell_type": "code",
      "execution_count": null,
      "metadata": {
        "id": "JEnWO1fh-jVZ"
      },
      "outputs": [],
      "source": []
    },
    {
      "cell_type": "markdown",
      "metadata": {
        "id": "tUTN6o1Y-jVZ"
      },
      "source": [
        "## Zadanie\n",
        "Wygeneruj kilka próbek z rozkładu normalnego dla różnych parametrów $\\mu$ i $\\sigma$ i dla różnej liczności próbki i sprawdź ile razy zostanie odrzucona hipoteza o normalności rozkładu. Przyjmij poziom istotności 0.05."
      ]
    },
    {
      "cell_type": "code",
      "execution_count": null,
      "metadata": {
        "id": "GOJIPFwD-jVZ"
      },
      "outputs": [],
      "source": []
    },
    {
      "cell_type": "code",
      "execution_count": null,
      "metadata": {
        "id": "Lwt5KyVz-jVa"
      },
      "outputs": [],
      "source": []
    },
    {
      "cell_type": "code",
      "execution_count": null,
      "metadata": {
        "id": "nIlgRL5L-jVa"
      },
      "outputs": [],
      "source": []
    },
    {
      "cell_type": "markdown",
      "metadata": {
        "id": "Jj7FZcbe-jVa"
      },
      "source": [
        "## Zadanie\n",
        "Wygeneruj kilka próbek z rozkładu normalnego dla różnych parametrów $\\mu$ i $\\sigma$ i dla różnej liczności próbki. Przy generowaniu próbki dodaj pewien błąd. Sprawdź ile razy zostanie odrzucona hipoteza o normalności rozkładu. Przyjmij poziom istotności 0.05."
      ]
    },
    {
      "cell_type": "code",
      "execution_count": null,
      "metadata": {
        "id": "dZExcIuy-jVa"
      },
      "outputs": [],
      "source": []
    },
    {
      "cell_type": "code",
      "execution_count": null,
      "metadata": {
        "id": "U1XTKoyT-jVa"
      },
      "outputs": [],
      "source": []
    },
    {
      "cell_type": "code",
      "execution_count": null,
      "metadata": {
        "id": "tmzb6xfV-jVa"
      },
      "outputs": [],
      "source": []
    },
    {
      "cell_type": "code",
      "execution_count": null,
      "metadata": {
        "id": "7f0_HkeN-jVa"
      },
      "outputs": [],
      "source": []
    },
    {
      "cell_type": "markdown",
      "metadata": {
        "id": "0u4C8Z7V-jVa"
      },
      "source": [
        "## ***Metody graficzne\n",
        "\n",
        "- histogram (z naniesionym fitem rozkładu normalnego)\n",
        "\n",
        "- $qq$-plot:\n",
        "    * oś x - teoretyczne kwantyle z rozkładu normalnego\n",
        "    * oś y - empiryczne kwantyle wyznaczone na podstawie próby; punkty na wykresie powinny układać wzdłuż prostej $y=x$."
      ]
    },
    {
      "cell_type": "code",
      "execution_count": null,
      "metadata": {
        "id": "2qai2bNY-jVb"
      },
      "outputs": [],
      "source": [
        "?stats.norm.fit"
      ]
    },
    {
      "cell_type": "code",
      "execution_count": null,
      "metadata": {
        "id": "xXGDug4O-jVb"
      },
      "outputs": [],
      "source": [
        "?sm.qqplot"
      ]
    },
    {
      "cell_type": "markdown",
      "metadata": {
        "id": "DWZ1TZrI-jVb"
      },
      "source": [
        "## Zadanie\n",
        "Wygeneruj kilka próbek o różnej liczności z \n",
        "\n",
        "a) rozkładu normalnego,\n",
        "\n",
        "b) rozkładu chi-kwadrat,\n",
        "\n",
        "c) rozkładu wykładniczego,\n",
        "\n",
        "sporządź histogramy z naniesionym filtrem rozkładu normalnego oraz wykresy $qq$-plot. Na podstawie otrzymanych rysunków oceń czy rozkład jest normalny."
      ]
    },
    {
      "cell_type": "code",
      "execution_count": null,
      "metadata": {
        "id": "92ZkHyn7-jVb"
      },
      "outputs": [],
      "source": []
    },
    {
      "cell_type": "code",
      "execution_count": null,
      "metadata": {
        "id": "HdAIo0ei-jVb"
      },
      "outputs": [],
      "source": []
    },
    {
      "cell_type": "code",
      "execution_count": null,
      "metadata": {
        "id": "9nDDZy_Z-jVb"
      },
      "outputs": [],
      "source": []
    },
    {
      "cell_type": "code",
      "execution_count": null,
      "metadata": {
        "id": "UoqUPnsP-jVb"
      },
      "outputs": [],
      "source": []
    },
    {
      "cell_type": "markdown",
      "metadata": {
        "id": "6L36riwc-jVc"
      },
      "source": [
        "## ***Inne testy do badania normalności\n",
        "\n",
        "* testy oparte na kurtozie i skośności:\n",
        "    - [test D'Agostino $K^2$](https://en.wikipedia.org/wiki/D%27Agostino%27s_K-squared_test): `scipy.stats.normaltest`;\n",
        "\n",
        "    - [test Jarque–Bera](https://en.wikipedia.org/wiki/Jarque%E2%80%93Bera_test): `scipy.stats.jarque_bera`;\n",
        "    \n",
        "* testy oparte na dystrybuancie empirycznej:\n",
        "    - [test Kolmogorova–Smirnova](https://en.wikipedia.org/wiki/Kolmogorov%E2%80%93Smirnov_test): `scipy.stats.kstest`;\n",
        "    \n",
        "    - [test Lilliefors](https://en.wikipedia.org/wiki/Lilliefors_test): `statsmodels.stats.diagnostic.lilliefors`;"
      ]
    },
    {
      "cell_type": "markdown",
      "metadata": {
        "id": "8X8ozzk8-jVc"
      },
      "source": [
        "## Test typu omnibus D’Agostino-Pearsona oparty o kurtozę i skośność\n",
        "Łącząc dwa testy otrzymuje się test czuły na odstępstwa od normalności zarówno w postaci niezerowej skośności jak i kurtozy istotnie różniej od 3.\n",
        "\n",
        "Statystyką testową jest\n",
        "$$\n",
        "K^2=(Z(\\sqrt{b_1}))^2+ (Z(b_2))^2,\n",
        "$$\n",
        "gdzie $Z(\\sqrt{b_1})$ to  statystyka  testowa  testu  opartego  o  skośność  a $Z(b_2)$  to  statystyka  testowa  testu opartego o kurtozę.\n",
        "\n",
        "Asymptotyczny rozkład tej statystyki to rozkład $\\chi^2$.\n",
        "\n",
        "Ponadto:\n",
        "$m_k = \\frac{1}{n}\\sum_{i=1}^n (x_i -\\overline{x})^k$, $\\sqrt{b_1} = \\frac{m_3}{m_2^{3/2}}$, $b_2 = \\frac{m4}{m_2^2}-3$.\n",
        "\n",
        "## Test typu omnibus Jarque-Bera oparty o kurtozę i skośność\n",
        "Innym testem opartym o kurtozę i skośność jest test Jarque-Bera. Statystyka testowaw przypadku tego testu ma łatwiejszą postać niż dla testu D’Agostino-Pearsona. Traci się jednak na niedokładnym oszacowaniu wartości krytycznych przy niewielkich wielkościach próby. Asymptotycznie ten test jest tak samo mocny jak test D’Agostino-Pearsona, ale na asymptotykę można liczyć jedynie w przypadku dużych prób.\n",
        "\n",
        "Statystyka testowa ma postać:\n",
        "$$\n",
        "    \\text{JB} = \\frac{n}{6}\\Big((\\sqrt{b_1})^2 + \\frac{1}{4}(b_2-3)^2\\Big).\n",
        "$$\n",
        "\n",
        "\n",
        "## Test Kołmogorova-Smirnova\n",
        "\n",
        "Test oparty o odległość supremum pomiędzy dystrybuantami empiryczną $F_n$ i teoretyczną $F$\n",
        "$$\n",
        "d(F_n, F) = \\sup_{x}|F_n(x) - F(x)|.\n",
        "$$\n",
        "\n",
        "Statystka testowa oparta o powyższą odległość sprowadza się do liczenia maksimum modułu różnicy dystrybuant w punktach skoku dystrybuanty empirycznej:\n",
        "$$\n",
        "D = \\max_{x_i}|F_n(x_i) - F(x_i)|.\n",
        "$$\n",
        "\n",
        "Rozkład statystyki testowej można wyznaczyć w sposób dokładny dla prostej hipotezy zerowej, a więc dla porównania z jednym określonym rozkładem. Asymptotycznie, ta statystyka przemnożona przez $\\sqrt{n}$ ma rozkład Kołmogorowa.\n",
        "\n",
        "Test ten pomimo łatwego opisu probabilistycznego nie jest stosowany z uwagi na moc niższą niż konkurencja.\n",
        "\n",
        "## Test Lillieforsa\n",
        "\n",
        "Ten test to modyfikacja testu Kołmogorowa-Smirnowa zaproponowana przez Huberta Lillieforsa, pozwalająca na testowanie zgodności z całą rodziną rozkładów normalnych, bez znajomości parametrów średniej i odchylenia standardowego (test Kołmogorowa-Smirnowa pozwala na zbadanie zgodnościz jednym określonym rozkładem).\n",
        "\n",
        "Statystyka testowa w przypadku testu Lillieforsa wygląda tak samo jak w przypadku testu Kołmogorowa-Smirnowa. Różnica polega na zastosowaniu innego rozkładu dla statystyki testowej (przybliżenie rozkładu dokładnego), uwzględniającego to, że hipoteza zerowa jest hipotezą złożoną."
      ]
    },
    {
      "cell_type": "code",
      "execution_count": null,
      "metadata": {
        "id": "3e7jmvtr-jVc"
      },
      "outputs": [],
      "source": [
        "?stats.normaltest"
      ]
    },
    {
      "cell_type": "code",
      "execution_count": null,
      "metadata": {
        "id": "kT6xS5KM-jVc"
      },
      "outputs": [],
      "source": [
        "?stats.jarque_bera"
      ]
    },
    {
      "cell_type": "code",
      "execution_count": null,
      "metadata": {
        "id": "QRA1bObL-jVc"
      },
      "outputs": [],
      "source": [
        "?stats.kstest"
      ]
    },
    {
      "cell_type": "code",
      "execution_count": null,
      "metadata": {
        "id": "Pi4tpsh8-jVc"
      },
      "outputs": [],
      "source": [
        "?sm_stats.diagnostic.lilliefors"
      ]
    },
    {
      "cell_type": "markdown",
      "metadata": {
        "id": "lM4Ng53T-jVd"
      },
      "source": [
        "## Zadanie\n",
        "Napisz funkcję, która dla dowolnej próbki zwróci ramkę danych z wyznaczonymi statystykami testowymi i $p$-wartościami dla poznanych testów normalności."
      ]
    },
    {
      "cell_type": "code",
      "execution_count": null,
      "metadata": {
        "id": "78_6BVNB-jVd"
      },
      "outputs": [],
      "source": [
        "def normal_tests(x):\n",
        "    pass"
      ]
    },
    {
      "cell_type": "markdown",
      "metadata": {
        "id": "RJoYx-0c-jVd"
      },
      "source": [
        "## Zadanie\n",
        "Wczytaj dane `mtcars.csv` i sprawdź normalność każdej z kolumn (za pomocą testów statystycznych oraz metod graficznych). "
      ]
    },
    {
      "cell_type": "code",
      "execution_count": null,
      "metadata": {
        "id": "BoXfuhT1-jVd"
      },
      "outputs": [],
      "source": [
        "mtcars = pd.read_csv(\"../data/mtcars.csv\")\n",
        "mtcars.head()"
      ]
    },
    {
      "cell_type": "code",
      "execution_count": null,
      "metadata": {
        "id": "ovbA74nT-jVd"
      },
      "outputs": [],
      "source": []
    }
  ],
  "metadata": {
    "kernelspec": {
      "display_name": "Python 3",
      "language": "python",
      "name": "python3"
    },
    "language_info": {
      "codemirror_mode": {
        "name": "ipython",
        "version": 3
      },
      "file_extension": ".py",
      "mimetype": "text/x-python",
      "name": "python",
      "nbconvert_exporter": "python",
      "pygments_lexer": "ipython3",
      "version": "3.8.8"
    },
    "colab": {
      "provenance": []
    }
  },
  "nbformat": 4,
  "nbformat_minor": 0
}